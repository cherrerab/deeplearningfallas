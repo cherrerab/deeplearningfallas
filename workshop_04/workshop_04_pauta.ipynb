{
  "nbformat": 4,
  "nbformat_minor": 0,
  "metadata": {
    "colab": {
      "name": "workshop_04",
      "provenance": [],
      "collapsed_sections": [],
      "toc_visible": true
    },
    "kernelspec": {
      "name": "python3",
      "display_name": "Python 3"
    },
    "accelerator": "GPU"
  },
  "cells": [
    {
      "cell_type": "markdown",
      "metadata": {
        "id": "B8STlcYRRB7v"
      },
      "source": [
        "# Defective PV Module Cells Transfer Learning\n",
        "\n",
        "En ocasiones, no resulta del todo eficiente entrenar un modelo convolucional desde cero pues es posible que para alcanzar una mejor abstracción en la extracción de features dentro del modelo se requieran una mayor cantidad de datos e incluso un mayor tiempo de entrenamiento, lo que no siempre será factible. Una forma de baipasear este problema es reutilizar las arquitecturas y parámetros de modelos previamente entrenados para la resolución de otros problemas similares al de interés.\n",
        "\n",
        "En este sentido, el transfer learning consiste en adaptar modelos previamente desarrollados para facilitar el aprendizaje del nuevo modelo sobre el problema de interés, del mismo modo en que alguien que sabe guitarra podría aprender a tocar bajo más rapidamente que alguien sin ninguna experiencia musical.\n",
        "\n",
        "<img src=\"https://raw.githubusercontent.com/cherrerab/deeplearningfallas/master/workshop_04/bin/banner.png\" width=\"950\">\n",
        "\n",
        "\n",
        "Convenientemente, `keras` provee de una serie de modelos pre-entrenados de alto nivel mediante su módulo `applications`, con funcionalidades tanto para cargar las arquitecturas y parámetros, como para adaptarlo a las estructuras y datos del problema en estudio. Así, en este workshop volveremos a usar el dataset de electroluminiscencias de celdas solares fotovoltaicas para el desarrollo de un modelo convolucional clasificación mediante transfer learning.\n",
        "\n",
        "- https://keras.io/api/applications/"
      ]
    },
    {
      "cell_type": "markdown",
      "metadata": {
        "id": "oX4uqHiVh6oL"
      },
      "source": [
        "## ELPV Dataset\n",
        "\n",
        "Para recordar el contenido del dataset que utilizaremos, este cuenta con `2624` imágenes de `300x300 px`, en escala de grises, con celdas fotovoltacias bajo distintos niveles de degradación. De este modo, cada imagen o muestra cuenta con una etiqueta que indica la probabilidad, estimada bajo la evaluación de un experto, de que la muestra presente un estado defectuoso.\n",
        "\n",
        "<img src=\"https://raw.githubusercontent.com/cherrerab/deeplearningfallas/master/workshop_03/bin/banner.png\" width=\"950\">\n",
        "\n",
        "El dataset se encuentra publicado en un repositorio github:\n",
        "- https://github.com/zae-bayern/elpv-dataset"
      ]
    },
    {
      "cell_type": "code",
      "metadata": {
        "id": "-QRuGMdAipQk",
        "outputId": "01d2f0c4-2360-49ca-e03e-ee7c7b20dd26",
        "colab": {
          "base_uri": "https://localhost:8080/",
          "height": 121
        }
      },
      "source": [
        "# cargar GitHub https://github.com/zae-bayern/elpv-dataset.git\n",
        "!git clone https://github.com/zae-bayern/elpv-dataset.git\n",
        "%cd /content/elpv-dataset/utils\n",
        "\n",
        "from elpv_reader import load_dataset\n",
        "\n",
        "# importar colección de imágenes y etiquetas\n",
        "images, proba, types = load_dataset()"
      ],
      "execution_count": null,
      "outputs": [
        {
          "output_type": "stream",
          "text": [
            "Cloning into 'elpv-dataset'...\n",
            "remote: Enumerating objects: 2686, done.\u001b[K\n",
            "remote: Total 2686 (delta 0), reused 0 (delta 0), pack-reused 2686\u001b[K\n",
            "Receiving objects: 100% (2686/2686), 90.79 MiB | 49.01 MiB/s, done.\n",
            "Resolving deltas: 100% (30/30), done.\n",
            "/content/elpv-dataset/utils\n"
          ],
          "name": "stdout"
        }
      ]
    },
    {
      "cell_type": "markdown",
      "metadata": {
        "id": "AvVr_KcnAmZy"
      },
      "source": [
        "También aprovecharemos de cargar el GitHub del curso deeplearningfallas para disponer de algunas utilidades que nos serán de utilidad más adelante."
      ]
    },
    {
      "cell_type": "code",
      "metadata": {
        "id": "ufu7_fATAzgz",
        "outputId": "34d55d83-063e-41a0-ffde-198624f64875",
        "colab": {
          "base_uri": "https://localhost:8080/",
          "height": 173
        }
      },
      "source": [
        "# cargar GitHub https://github.com/cherrerab/deeplearningfallas.git\n",
        "%cd /content/\n",
        "!git clone https://github.com/cherrerab/deeplearningfallas.git\n",
        "%cd /content/deeplearningfallas"
      ],
      "execution_count": null,
      "outputs": [
        {
          "output_type": "stream",
          "text": [
            "/content\n",
            "Cloning into 'deeplearningfallas'...\n",
            "remote: Enumerating objects: 72, done.\u001b[K\n",
            "remote: Counting objects: 100% (72/72), done.\u001b[K\n",
            "remote: Compressing objects: 100% (66/66), done.\u001b[K\n",
            "remote: Total 321 (delta 26), reused 0 (delta 0), pack-reused 249\u001b[K\n",
            "Receiving objects: 100% (321/321), 36.91 MiB | 22.22 MiB/s, done.\n",
            "Resolving deltas: 100% (114/114), done.\n",
            "/content/deeplearningfallas\n"
          ],
          "name": "stdout"
        }
      ]
    },
    {
      "cell_type": "markdown",
      "metadata": {
        "id": "BGYl8kJejURi"
      },
      "source": [
        "---\n",
        "# Training Data\n",
        "\n",
        "Vale la pena recordar que en este dataset las probabilidades en `proba` no siguen una distribución continua entre `[0.0, 1.0]`. En cambio, este valor depende de la incertidumbre del experto al realizar el diagnóstico de daño, como se muestra en la tabla a continuación.\n",
        "\n",
        "<img src=\"https://raw.githubusercontent.com/cherrerab/deeplearningfallas/master/workshop_03/bin/data_table.png\" height=\"140\">\n",
        "\n",
        "Así, de la misma manera que en el workshop anterior, agruparemos estas cuatro clases en solamente dos: `functional cells` y `defective cells`. Por un lado, la clase `functional cells` estará compuesto únicamente de las muestras con probabilidad `0.0`, mientras que `defective cells` agrupará el resto de las clases en el dataset. De este modo, aparte de aislar completamente las celdas que con certeza no presentan ninguna clase de defectos, dado que la función `softmax` indica la probabilidad de pertenencia a cada una de las clases, podemos utilizar esta propiedad para comparar las predicciones del modelo con las etiquetas iniciales.\n",
        "\n",
        "Por otro lado, volveremos a utilizar la función `train_test_split` de `sklearn` para dividir los datos en los sets de entrenamiento `(X_train, Y_train)` y testing `(X_test, Y_test)`. Esta función dividirá de manera aleatoria los datasets ingresados en dos subonjuntos o `subsets` de entrenamiento y testing.\n",
        "\n",
        "- https://scikit-learn.org/stable/modules/generated/sklearn.model_selection.train_test_split.html"
      ]
    },
    {
      "cell_type": "code",
      "metadata": {
        "id": "ljyRymI6Q3r6",
        "outputId": "adcbd0ee-dc19-4cf2-e742-3546ba635e4c",
        "colab": {
          "base_uri": "https://localhost:8080/",
          "height": 69
        }
      },
      "source": [
        "import numpy as np\n",
        "from keras.utils import to_categorical\n",
        "\n",
        "# transformar lista de probabilidades\n",
        "labels = np.array( proba < 0.1, dtype=int) \n",
        "\n",
        "# transformar a one hot encoding\n",
        "Y = to_categorical( labels )\n",
        "\n",
        "from sklearn.model_selection import train_test_split\n",
        "\n",
        "# ---\n",
        "# transformar images a shape (samples, height, width, channel)\n",
        "# compatible para el entrenamiento.\n",
        "# adicionalmente transformaremos las imágenes a RGB para compatibilizar\n",
        "# nuestros datos con el modelos que usaremos para el transfer learning.\n",
        "# una manera rápida de hacer este proceso es mediante np.stack\n",
        "X = np.reshape( images, (-1, 300, 300) )\n",
        "X = np.stack( [X, X, X], axis=3 )\n",
        "\n",
        "# realizar data splitting\n",
        "X_train, X_test, Y_train, Y_test = train_test_split( X, Y, test_size=0.2, random_state=0 )\n",
        "\n",
        "# print sample distribution\n",
        "print( 'train split: {:d} samples'.format(X_train.shape[0]) )\n",
        "print( '\\ntesting split: {:d} samples'.format(X_test.shape[0]) )"
      ],
      "execution_count": 12,
      "outputs": [
        {
          "output_type": "stream",
          "text": [
            "train split: 2099 samples\n",
            "\n",
            "testing split: 525 samples\n"
          ],
          "name": "stdout"
        }
      ]
    },
    {
      "cell_type": "markdown",
      "metadata": {
        "id": "2evSZUEWuW-b"
      },
      "source": [
        "---\n",
        "## Transfer Learning\n",
        "\n",
        "El VGG-16 es un modelo convolucional propuesto por K. Simonyan y A. Zisserman, del Visual Graphics Group (VGG) de la Universidad de Oxford y fue descrito en el paper \"Very Deep Convolutional Networks for Large-Scale Image Recognition (2014)\". Este modelo fue desarrollado sobre el ImageNet Large Scale Visual Recognition Challenge, también referido simplemente como ImageNet, el cual consiste en un dataset de más de 14 millones de imágenes para la clasificación de alrededor de 1000 de clases diferentes de objetos. En 2014, la red VGG-16 fue propuesta al challenge alcanzando un 92.7% de accuracy.\n",
        "\n",
        "<img src=\"https://neurohive.io/wp-content/uploads/2018/11/vgg16-1-e1542731207177.png\" width=\"600\">\n",
        "\n",
        "Para este caso particular, utilizaremos la VGG-16 como un extractor de features, donde usaremos el output de la última capa convolucional del modelo como input para nuestro modelo de clasificación de daño. Recordemos que en general, las capas convolucionales cercanas a la entrada de la red aprenden a extraer low-level features de la imagen, mientras que aquellas más cercanas a la salida suelen aprender features con una mayor abstracción y complejidad para la interpretación final de la imagen de entrada.\n",
        "\n",
        "De este modo, cargaremos el modelo VGG-16 contenido en `keras.applications` y acoplaremos la sección convolucional del modelo con una serie de capas `Dense` para la clasificación binaria del problema.\n",
        "\n",
        "- https://keras.io/api/applications/vgg/"
      ]
    },
    {
      "cell_type": "code",
      "metadata": {
        "id": "XIXsDck8uWBa",
        "outputId": "61535cff-4806-4ed0-8ee0-8bd7ac8de97c",
        "colab": {
          "base_uri": "https://localhost:8080/",
          "height": 72
        }
      },
      "source": [
        "from keras.applications import VGG16\n",
        "from keras.models import Model\n",
        "\n",
        "# ---\n",
        "# inicializar el modelo VGG-16\n",
        "# el parámetro include_top permite especificar si se cargarán las capas\n",
        "# fully connected del modelo o bien, únicamente la sección convolucional.\n",
        "# el parámetro weights permite definir si se cargarán los pesos pre-entrenados\n",
        "# del modelo o si estos se inicializarán de manera aleatoria.\n",
        "# https://keras.io/api/applications/vgg/\n",
        "\n",
        "input_shape = (300, 300, 3)\n",
        "VGG = VGG16(include_top=False, weights='imagenet', input_shape=input_shape )\n",
        "\n",
        "# ---\n",
        "# configurar modelo VGG-16 para la extracción de features\n",
        "\n",
        "# extraer input del modelo VGG-16\n",
        "input = VGG.input\n",
        "\n",
        "# extraer output de la última capa del modelo VGG-16\n",
        "VGG_output = VGG.layers[-1].output\n",
        "\n",
        "# generar sección VGG-16 y detener el entrenamiento de sus parámetros\n",
        "VGG_model = Model(input, VGG_output)\n",
        "\n",
        "# las keras.layers y los keras.models poseen el atributo trainable (bool).\n",
        "# este permite \"congelar\" los parámetros de la capa o modelo, de modo que\n",
        "# los pesos no serán ajustados durante el entrenamiento.\n",
        "for layer in VGG_model.layers:\n",
        "  layer.trainable = False\n",
        "\n",
        "# print VGG_model.summary()\n",
        "VGG_model.summary()"
      ],
      "execution_count": null,
      "outputs": [
        {
          "output_type": "stream",
          "text": [
            "Downloading data from https://storage.googleapis.com/tensorflow/keras-applications/vgg16/vgg16_weights_tf_dim_ordering_tf_kernels_notop.h5\n",
            "58892288/58889256 [==============================] - 0s 0us/step\n"
          ],
          "name": "stdout"
        }
      ]
    },
    {
      "cell_type": "markdown",
      "metadata": {
        "id": "oplmiUMK-ncm"
      },
      "source": [
        "Así hemos configurado la primera sección convolucional de nuestro modelo de clasificación, el cual extraerá los `feature map` aprendidos para el reconocimiento de objetos dentro del problema de ImageNet.\n",
        "\n",
        "Resulta interesante observar el resultado preliminar de estos `feature maps` al ingresar una imagen del ELPV Dataset. Para esto ultilizaremos la función `plot_img_samples` que usamos en el workshop anterior y que se encuentra en el módulo `utils` del github del curso."
      ]
    },
    {
      "cell_type": "code",
      "metadata": {
        "id": "jKy3D-svAVtk",
        "outputId": "b6cc2e34-ff07-4e79-d7ca-213964351cbf",
        "colab": {
          "base_uri": "https://localhost:8080/",
          "height": 788
        }
      },
      "source": [
        "from utils import plot_img_samples\n",
        "import matplotlib.pyplot as plt\n",
        "\n",
        "# obtener imagen de muestra del ELPV dataset\n",
        "# en este caso utilizaremos el dato número 288\n",
        "img = X_train[288, :, :, :]\n",
        "\n",
        "# visualizar imagen de muestra\n",
        "plt.figure( figsize=(5, 5) )\n",
        "plt.imshow(img)\n",
        "\n",
        "# ---\n",
        "# extraer VGG-16 feature maps\n",
        "x = np.reshape(img, (1, 300, 300, 3))\n",
        "VGG16_fmap = VGG_model.predict(x)\n",
        "\n",
        "# reordenar feature maps a (feature_maps, height, width)\n",
        "fmaps = np.zeros( (512, 9, 9) )\n",
        "for i in range( 512 ):\n",
        "  fmap = VGG16_fmap[:, :, :, i]\n",
        "  fmaps[i, :, :] = np.reshape( fmap, (1, 9, 9) )\n",
        "\n",
        "# visulizar fmaps mediante plot_img_samples\n",
        "plot_img_samples(fmaps, range(50), grid=(5, 10),\n",
        "                 figsize=(15,15),title='VGG-16 feature maps')"
      ],
      "execution_count": null,
      "outputs": [
        {
          "output_type": "display_data",
          "data": {
            "image/png": "[encoded data removed]",
            "text/plain": [
              "<Figure size 360x360 with 1 Axes>"
            ]
          },
          "metadata": {
            "tags": [],
            "needs_background": "light"
          }
        },
        {
          "output_type": "display_data",
          "data": {
            "image/png": "[encoded data removed]",
            "text/plain": [
              "<Figure size 1080x1080 with 1 Axes>"
            ]
          },
          "metadata": {
            "tags": [],
            "needs_background": "light"
          }
        }
      ]
    },
    {
      "cell_type": "markdown",
      "metadata": {
        "id": "G8tCJua9sdQv"
      },
      "source": [
        "Ahora, como se mencionó anteriormente, finalizaremos nuestro modelo de clasificación agregando una serie de capas `Dense`, para terminar de procesar la información, hasta una última capa de salida `softmax`."
      ]
    },
    {
      "cell_type": "code",
      "metadata": {
        "id": "3vGjL3HCtcCF",
        "outputId": "abc5a694-6304-4c2c-b644-f5783103e6c2",
        "colab": {
          "base_uri": "https://localhost:8080/",
          "height": 1000
        }
      },
      "source": [
        "from keras.models import Model\n",
        "\n",
        "from keras.layers import Dense\n",
        "from keras.layers import Flatten\n",
        "from keras.layers import Dropout\n",
        "from keras.layers import GlobalAveragePooling2D\n",
        "\n",
        "# ---\n",
        "# ahora debemos ir agregando nuestras capas Dense para procesar la\n",
        "# información hasta la capa de salida.\n",
        "# https://keras.io/api/layers/core_layers/dense/\n",
        "\n",
        "model = Flatten()(VGG_output)\n",
        "model = Dropout(rate=0.25)(model)\n",
        "model = Dense(units=128, activation='relu')(model)\n",
        "model = Dense(units=128, activation='relu')(model)\n",
        "\n",
        "model = Dropout(rate=0.2)(model)\n",
        "model = Dense(units=64, activation='relu')(model)\n",
        "model = Dense(units=32, activation='relu')(model)\n",
        "\n",
        "# ---\n",
        "# por último debemos configurar nuestra capa de salida\n",
        "# dado que el modelo consiste en uno de clasificación emplearemos\n",
        "# la función softmax, donde cada nodo indicará la probabilidad de que\n",
        "# los datos correspondan a una de las etiquetas o estados de salud.\n",
        "labels_num = 2\n",
        "model_output = Dense(units=labels_num, activation='softmax')(model)\n",
        "\n",
        "# ---\n",
        "# generar modelo de clasificación\n",
        "ELPV_Model = Model(input, model_output)\n",
        "\n",
        "# print ELPV_Model.summary()\n",
        "ELPV_Model.summary()"
      ],
      "execution_count": 19,
      "outputs": [
        {
          "output_type": "stream",
          "text": [
            "Model: \"functional_7\"\n",
            "_________________________________________________________________\n",
            "Layer (type)                 Output Shape              Param #   \n",
            "=================================================================\n",
            "input_1 (InputLayer)         [(None, 300, 300, 3)]     0         \n",
            "_________________________________________________________________\n",
            "block1_conv1 (Conv2D)        (None, 300, 300, 64)      1792      \n",
            "_________________________________________________________________\n",
            "block1_conv2 (Conv2D)        (None, 300, 300, 64)      36928     \n",
            "_________________________________________________________________\n",
            "block1_pool (MaxPooling2D)   (None, 150, 150, 64)      0         \n",
            "_________________________________________________________________\n",
            "block2_conv1 (Conv2D)        (None, 150, 150, 128)     73856     \n",
            "_________________________________________________________________\n",
            "block2_conv2 (Conv2D)        (None, 150, 150, 128)     147584    \n",
            "_________________________________________________________________\n",
            "block2_pool (MaxPooling2D)   (None, 75, 75, 128)       0         \n",
            "_________________________________________________________________\n",
            "block3_conv1 (Conv2D)        (None, 75, 75, 256)       295168    \n",
            "_________________________________________________________________\n",
            "block3_conv2 (Conv2D)        (None, 75, 75, 256)       590080    \n",
            "_________________________________________________________________\n",
            "block3_conv3 (Conv2D)        (None, 75, 75, 256)       590080    \n",
            "_________________________________________________________________\n",
            "block3_pool (MaxPooling2D)   (None, 37, 37, 256)       0         \n",
            "_________________________________________________________________\n",
            "block4_conv1 (Conv2D)        (None, 37, 37, 512)       1180160   \n",
            "_________________________________________________________________\n",
            "block4_conv2 (Conv2D)        (None, 37, 37, 512)       2359808   \n",
            "_________________________________________________________________\n",
            "block4_conv3 (Conv2D)        (None, 37, 37, 512)       2359808   \n",
            "_________________________________________________________________\n",
            "block4_pool (MaxPooling2D)   (None, 18, 18, 512)       0         \n",
            "_________________________________________________________________\n",
            "block5_conv1 (Conv2D)        (None, 18, 18, 512)       2359808   \n",
            "_________________________________________________________________\n",
            "block5_conv2 (Conv2D)        (None, 18, 18, 512)       2359808   \n",
            "_________________________________________________________________\n",
            "block5_conv3 (Conv2D)        (None, 18, 18, 512)       2359808   \n",
            "_________________________________________________________________\n",
            "block5_pool (MaxPooling2D)   (None, 9, 9, 512)         0         \n",
            "_________________________________________________________________\n",
            "flatten_1 (Flatten)          (None, 41472)             0         \n",
            "_________________________________________________________________\n",
            "dense_10 (Dense)             (None, 128)               5308544   \n",
            "_________________________________________________________________\n",
            "dense_11 (Dense)             (None, 128)               16512     \n",
            "_________________________________________________________________\n",
            "dropout_3 (Dropout)          (None, 128)               0         \n",
            "_________________________________________________________________\n",
            "dense_12 (Dense)             (None, 64)                8256      \n",
            "_________________________________________________________________\n",
            "dense_13 (Dense)             (None, 64)                4160      \n",
            "_________________________________________________________________\n",
            "dense_14 (Dense)             (None, 2)                 130       \n",
            "=================================================================\n",
            "Total params: 20,052,290\n",
            "Trainable params: 5,337,602\n",
            "Non-trainable params: 14,714,688\n",
            "_________________________________________________________________\n"
          ],
          "name": "stdout"
        }
      ]
    },
    {
      "cell_type": "markdown",
      "metadata": {
        "id": "7B5WmSP285HO"
      },
      "source": [
        "## Compile Model\n",
        "\n",
        "Antes de poner a entrenar al modelo, es necesario realizar unas configuraciones adicionales. En particular, debemos especificar la función de pérdida o `loss function` que se optimizará durante el entrenamiento y el método de optimización como SGD o Adam.\n",
        "- https://keras.io/api/models/model_training_apis/\n",
        "- https://keras.io/api/optimizers/"
      ]
    },
    {
      "cell_type": "code",
      "metadata": {
        "id": "qPaQ1gw_87iO"
      },
      "source": [
        "from keras.optimizers import Adam\n",
        "\n",
        "# configurar optimizador Adam\n",
        "# https://keras.io/api/optimizers/adam/\n",
        "opt = Adam( learning_rate=1e-3 )\n",
        "\n",
        "# ---\n",
        "# compilar modelo siguiendo como función de pérdida\n",
        "# la categorical crossentropy\n",
        "ELPV_Model.compile(loss='categorical_crossentropy', optimizer=opt, metrics=['accuracy'])"
      ],
      "execution_count": 20,
      "outputs": []
    },
    {
      "cell_type": "markdown",
      "metadata": {
        "id": "tjKYqaay9DZd"
      },
      "source": [
        "## Model Training and Callbacks\n",
        "Hemos llegado a la parte final del proceso, para entrenar nuestro modelo debemos especificar los sets que utilizaremos para el proceso `(X_train, Y_train)`, la cantidad de `epochs` que durará el entrenamiento, y el `batch size` de muestras que se irán entregando al modelo a medida que este va iterativamente ajustando sus parámetros.\n",
        "\n",
        "Ahora, dado que el entrenamiento de los modelos CNN suele demorar bastante más tiempo que un modelo Fully Connected como el del workshop anterior, suele convenir utilizar `Callbacks` durante el entrenamiento. Los `Callbacks` consisten en métodos que realizan una serie de acciones a medida que el entrenamiento se lleva a cabo. Por supuesto, `Keras` ya cuenta con una selección de `Callbacks` predefinidos listos para utilizar, como `EarlyStopping` y `ModelCheckpoint`.\n",
        "\n",
        "- https://keras.io/api/callbacks/\n",
        "\n",
        "En este caso, utilizaremos `ModelCheckpoint`, el cual se encargará de monitorear el `val_acc` durante el entrenamiento y guardar el modelo cada vez que este alcance un nuevo máximo. De este modo, si en algún punto llegase a ocurrir `overfitting`, se tendrá un respaldo del modelo que podrá ser importado posteriormente.\n",
        "\n",
        "- https://keras.io/api/callbacks/model_checkpoint/"
      ]
    },
    {
      "cell_type": "code",
      "metadata": {
        "id": "Tt6KQTzN9CrD",
        "outputId": "175fb421-91af-4620-8da4-c87ef8ef6ede",
        "colab": {
          "base_uri": "https://localhost:8080/",
          "height": 1000
        }
      },
      "source": [
        "from keras.callbacks import ModelCheckpoint\n",
        "from utils import plot_loss_function\n",
        "\n",
        "# ubicación en donde se guardará el modelo\n",
        "save_path = '//content//model_checkpoint.h5'\n",
        "\n",
        "# inicializar ModelCheckpoint\n",
        "checkpoint = ModelCheckpoint(save_path, monitor='val_accuracy',\n",
        "                             save_best_only=True)\n",
        "\n",
        "# realizar rutina de entrenamiento\n",
        "model_history = ELPV_Model.fit(X_train, Y_train,\n",
        "                               batch_size=64, epochs=50 ,\n",
        "                               validation_data=(X_test, Y_test),\n",
        "                               callbacks=[checkpoint] )\n",
        "\n",
        "# plot gráfico de función de pérdida\n",
        "plot_loss_function(model_history, figsize=(10,4))"
      ],
      "execution_count": 21,
      "outputs": [
        {
          "output_type": "stream",
          "text": [
            "Epoch 1/50\n",
            "33/33 [==============================] - 21s 633ms/step - loss: 1.2043 - accuracy: 0.6379 - val_loss: 0.6214 - val_accuracy: 0.6838\n",
            "Epoch 2/50\n",
            "33/33 [==============================] - 21s 645ms/step - loss: 0.6312 - accuracy: 0.7246 - val_loss: 0.5445 - val_accuracy: 0.7448\n",
            "Epoch 3/50\n",
            "33/33 [==============================] - 20s 611ms/step - loss: 0.4752 - accuracy: 0.7818 - val_loss: 0.4919 - val_accuracy: 0.7733\n",
            "Epoch 4/50\n",
            "33/33 [==============================] - 20s 605ms/step - loss: 0.3782 - accuracy: 0.8409 - val_loss: 0.4484 - val_accuracy: 0.8114\n",
            "Epoch 5/50\n",
            "33/33 [==============================] - 20s 611ms/step - loss: 0.3173 - accuracy: 0.8637 - val_loss: 0.5027 - val_accuracy: 0.7790\n",
            "Epoch 6/50\n",
            "33/33 [==============================] - 20s 616ms/step - loss: 0.2535 - accuracy: 0.9033 - val_loss: 0.5113 - val_accuracy: 0.8057\n",
            "Epoch 7/50\n",
            "33/33 [==============================] - 20s 609ms/step - loss: 0.2049 - accuracy: 0.9276 - val_loss: 0.5812 - val_accuracy: 0.8038\n",
            "Epoch 8/50\n",
            "33/33 [==============================] - 20s 604ms/step - loss: 0.2198 - accuracy: 0.9181 - val_loss: 0.5195 - val_accuracy: 0.8000\n",
            "Epoch 9/50\n",
            "33/33 [==============================] - 20s 608ms/step - loss: 0.1504 - accuracy: 0.9495 - val_loss: 0.6009 - val_accuracy: 0.8019\n",
            "Epoch 10/50\n",
            "33/33 [==============================] - 20s 612ms/step - loss: 0.1019 - accuracy: 0.9671 - val_loss: 0.8152 - val_accuracy: 0.7981\n",
            "Epoch 11/50\n",
            "33/33 [==============================] - 20s 612ms/step - loss: 0.0860 - accuracy: 0.9690 - val_loss: 0.8037 - val_accuracy: 0.7905\n",
            "Epoch 12/50\n",
            "33/33 [==============================] - 20s 612ms/step - loss: 0.0831 - accuracy: 0.9652 - val_loss: 1.0501 - val_accuracy: 0.7695\n",
            "Epoch 13/50\n",
            "33/33 [==============================] - 20s 612ms/step - loss: 0.1362 - accuracy: 0.9519 - val_loss: 0.7746 - val_accuracy: 0.8114\n",
            "Epoch 14/50\n",
            "33/33 [==============================] - 20s 611ms/step - loss: 0.0816 - accuracy: 0.9719 - val_loss: 0.7801 - val_accuracy: 0.7905\n",
            "Epoch 15/50\n",
            "33/33 [==============================] - 20s 611ms/step - loss: 0.0440 - accuracy: 0.9852 - val_loss: 1.1382 - val_accuracy: 0.7905\n",
            "Epoch 16/50\n",
            "33/33 [==============================] - 20s 610ms/step - loss: 0.0270 - accuracy: 0.9900 - val_loss: 1.0782 - val_accuracy: 0.7867\n",
            "Epoch 17/50\n",
            "33/33 [==============================] - 20s 610ms/step - loss: 0.0297 - accuracy: 0.9914 - val_loss: 0.9795 - val_accuracy: 0.8038\n",
            "Epoch 18/50\n",
            "33/33 [==============================] - 20s 610ms/step - loss: 0.0188 - accuracy: 0.9943 - val_loss: 1.3310 - val_accuracy: 0.7695\n",
            "Epoch 19/50\n",
            "33/33 [==============================] - 20s 610ms/step - loss: 0.1268 - accuracy: 0.9557 - val_loss: 1.0139 - val_accuracy: 0.7905\n",
            "Epoch 20/50\n",
            "33/33 [==============================] - 20s 610ms/step - loss: 0.1019 - accuracy: 0.9643 - val_loss: 0.9090 - val_accuracy: 0.7848\n",
            "Epoch 21/50\n",
            "33/33 [==============================] - 20s 609ms/step - loss: 0.0292 - accuracy: 0.9895 - val_loss: 1.0624 - val_accuracy: 0.7886\n",
            "Epoch 22/50\n",
            "33/33 [==============================] - 20s 609ms/step - loss: 0.0104 - accuracy: 0.9976 - val_loss: 1.1921 - val_accuracy: 0.7886\n",
            "Epoch 23/50\n",
            "33/33 [==============================] - 20s 617ms/step - loss: 0.0094 - accuracy: 0.9971 - val_loss: 1.2769 - val_accuracy: 0.8152\n",
            "Epoch 24/50\n",
            "33/33 [==============================] - 20s 609ms/step - loss: 0.0288 - accuracy: 0.9905 - val_loss: 1.1585 - val_accuracy: 0.7924\n",
            "Epoch 25/50\n",
            "33/33 [==============================] - 20s 608ms/step - loss: 0.0101 - accuracy: 0.9967 - val_loss: 1.3422 - val_accuracy: 0.8038\n",
            "Epoch 26/50\n",
            "33/33 [==============================] - 20s 609ms/step - loss: 0.0107 - accuracy: 0.9971 - val_loss: 1.4688 - val_accuracy: 0.8057\n",
            "Epoch 27/50\n",
            "33/33 [==============================] - 20s 609ms/step - loss: 0.0154 - accuracy: 0.9933 - val_loss: 1.3877 - val_accuracy: 0.7924\n",
            "Epoch 28/50\n",
            "33/33 [==============================] - 20s 609ms/step - loss: 0.0071 - accuracy: 0.9986 - val_loss: 1.4837 - val_accuracy: 0.8095\n",
            "Epoch 29/50\n",
            "33/33 [==============================] - 20s 609ms/step - loss: 0.0054 - accuracy: 0.9981 - val_loss: 1.4834 - val_accuracy: 0.8038\n",
            "Epoch 30/50\n",
            "33/33 [==============================] - 20s 608ms/step - loss: 0.0105 - accuracy: 0.9971 - val_loss: 1.4381 - val_accuracy: 0.8038\n",
            "Epoch 31/50\n",
            "33/33 [==============================] - 20s 609ms/step - loss: 0.0219 - accuracy: 0.9952 - val_loss: 1.2835 - val_accuracy: 0.8038\n",
            "Epoch 32/50\n",
            "33/33 [==============================] - 20s 608ms/step - loss: 0.0098 - accuracy: 0.9967 - val_loss: 1.5180 - val_accuracy: 0.7790\n",
            "Epoch 33/50\n",
            "33/33 [==============================] - 20s 609ms/step - loss: 0.0118 - accuracy: 0.9967 - val_loss: 1.5081 - val_accuracy: 0.7886\n",
            "Epoch 34/50\n",
            "33/33 [==============================] - 20s 609ms/step - loss: 9.2884e-04 - accuracy: 1.0000 - val_loss: 1.6202 - val_accuracy: 0.8057\n",
            "Epoch 35/50\n",
            "33/33 [==============================] - 20s 609ms/step - loss: 8.5535e-04 - accuracy: 1.0000 - val_loss: 1.6659 - val_accuracy: 0.8019\n",
            "Epoch 36/50\n",
            "33/33 [==============================] - 20s 610ms/step - loss: 4.2022e-04 - accuracy: 1.0000 - val_loss: 1.6335 - val_accuracy: 0.8114\n",
            "Epoch 37/50\n",
            "33/33 [==============================] - 20s 609ms/step - loss: 1.9524e-04 - accuracy: 1.0000 - val_loss: 1.6844 - val_accuracy: 0.8076\n",
            "Epoch 38/50\n",
            "33/33 [==============================] - 20s 610ms/step - loss: 2.0692e-04 - accuracy: 1.0000 - val_loss: 1.6886 - val_accuracy: 0.8133\n",
            "Epoch 39/50\n",
            "33/33 [==============================] - 20s 609ms/step - loss: 1.3640e-04 - accuracy: 1.0000 - val_loss: 1.7280 - val_accuracy: 0.8114\n",
            "Epoch 40/50\n",
            "33/33 [==============================] - 20s 609ms/step - loss: 1.5750e-04 - accuracy: 1.0000 - val_loss: 1.7558 - val_accuracy: 0.8038\n",
            "Epoch 41/50\n",
            "33/33 [==============================] - 20s 609ms/step - loss: 1.1430e-04 - accuracy: 1.0000 - val_loss: 1.7765 - val_accuracy: 0.8057\n",
            "Epoch 42/50\n",
            "33/33 [==============================] - 20s 610ms/step - loss: 8.0132e-05 - accuracy: 1.0000 - val_loss: 1.7870 - val_accuracy: 0.8095\n",
            "Epoch 43/50\n",
            "33/33 [==============================] - 20s 609ms/step - loss: 6.3144e-05 - accuracy: 1.0000 - val_loss: 1.8029 - val_accuracy: 0.8095\n",
            "Epoch 44/50\n",
            "33/33 [==============================] - 20s 610ms/step - loss: 7.3444e-05 - accuracy: 1.0000 - val_loss: 1.8202 - val_accuracy: 0.8076\n",
            "Epoch 45/50\n",
            "33/33 [==============================] - 20s 609ms/step - loss: 8.3318e-05 - accuracy: 1.0000 - val_loss: 1.8393 - val_accuracy: 0.8076\n",
            "Epoch 46/50\n",
            "33/33 [==============================] - 20s 609ms/step - loss: 9.9835e-05 - accuracy: 1.0000 - val_loss: 1.8705 - val_accuracy: 0.8095\n",
            "Epoch 47/50\n",
            "33/33 [==============================] - 20s 609ms/step - loss: 8.0644e-05 - accuracy: 1.0000 - val_loss: 1.9058 - val_accuracy: 0.8038\n",
            "Epoch 48/50\n",
            "33/33 [==============================] - 20s 609ms/step - loss: 5.3050e-05 - accuracy: 1.0000 - val_loss: 1.9063 - val_accuracy: 0.8038\n",
            "Epoch 49/50\n",
            "33/33 [==============================] - 20s 608ms/step - loss: 5.8337e-05 - accuracy: 1.0000 - val_loss: 1.9108 - val_accuracy: 0.8095\n",
            "Epoch 50/50\n",
            "33/33 [==============================] - 20s 608ms/step - loss: 5.6287e-05 - accuracy: 1.0000 - val_loss: 1.9195 - val_accuracy: 0.8095\n"
          ],
          "name": "stdout"
        },
        {
          "output_type": "display_data",
          "data": {
            "image/png": "[encoded data removed]",
            "text/plain": [
              "<Figure size 720x288 with 1 Axes>"
            ]
          },
          "metadata": {
            "tags": [],
            "needs_background": "light"
          }
        }
      ]
    },
    {
      "cell_type": "markdown",
      "metadata": {
        "id": "U7px2BjLQCiK"
      },
      "source": [
        "## Model Evaluation\n",
        "\n",
        "Finalmente, una vez entrenado nuestro modelo debemos evaluar su desempeño. Nuevamente dada la poca cantidad de datos, utilizaremos los datos de validación como datos de testing. Para utilizar el `keras.Model` sobre nuevos datos de clasificación, conviene utilizar el método `keras.Sequential.predict`.\n",
        "\n",
        "Por otro lado, para cargar el modelo guardado por el `ModelCheckpoint` durante el entrenamiento, se puede utilizar la función `keras.models.load_model`."
      ]
    },
    {
      "cell_type": "code",
      "metadata": {
        "id": "J-0r3DdbQFp0",
        "outputId": "5e63bcc7-7e65-47a0-c641-77d641a1f89a",
        "colab": {
          "base_uri": "https://localhost:8080/",
          "height": 392
        }
      },
      "source": [
        "from keras.models import load_model\n",
        "\n",
        "from utils import plot_confusion_matrix\n",
        "from sklearn.metrics import accuracy_score\n",
        "\n",
        "# cargar modelo (backup: workshop_03//model_backup.h5)\n",
        "model_path = '//content//model_checkpoint.h5'\n",
        "ELPV_Model = load_model(model_path)\n",
        "\n",
        "# obtener predicciones de X_test\n",
        "Y_pred = ELPV_Model.predict( X_test )\n",
        "\n",
        "# para que el resultado nos sea más intuitivo transformaremos\n",
        "# las etiquetas nuevamente a non one-hot-encoding\n",
        "# utilizando np.argmax\n",
        "labels_pred = np.argmax( Y_pred, axis=1 )\n",
        "labels_true = np.argmax( Y_test, axis=1 )\n",
        "\n",
        "# calcular accuracy de la clasificación.\n",
        "accuracy = accuracy_score(labels_true, labels_pred)\n",
        "print('testing accuracy: {:1.3f}'.format(accuracy))\n",
        "\n",
        "# plot de matriz de confusión\n",
        "plot_confusion_matrix(labels_true, labels_pred, ['Defective', 'Functional'])"
      ],
      "execution_count": 17,
      "outputs": [
        {
          "output_type": "stream",
          "text": [
            "testing accuracy: 0.840\n"
          ],
          "name": "stdout"
        },
        {
          "output_type": "display_data",
          "data": {
            "image/png": "[encoded data removed]",
            "text/plain": [
              "<Figure size 360x360 with 2 Axes>"
            ]
          },
          "metadata": {
            "tags": [],
            "needs_background": "light"
          }
        }
      ]
    }
  ]
}